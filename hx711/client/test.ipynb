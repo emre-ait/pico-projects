{
 "cells": [
  {
   "cell_type": "code",
   "execution_count": 48,
   "metadata": {},
   "outputs": [
    {
     "name": "stdout",
     "output_type": "stream",
     "text": [
      "1.23.3\n",
      "[[   0.    0.]\n",
      " [   1.    0.]\n",
      " [   2.    0.]\n",
      " [   3.    0.]\n",
      " [   4.    0.]\n",
      " [   5.    0.]\n",
      " [   6.    0.]\n",
      " [   7.    0.]\n",
      " [   8. 1000.]\n",
      " [   9.    0.]]\n"
     ]
    }
   ],
   "source": [
    "import numpy as np\n",
    "\n",
    "#print numpy version\n",
    "print(np.__version__)\n",
    "# Create a numpy array of 10 x 2 one dimension is the x axis and the other is the y axis x increments by 1 and y is random between 0 and 1000\n",
    "data = np.zeros((10,2))\n",
    "data[:,0] = np.arange(10)\n",
    "data[9,1] = 1000\n",
    "\n",
    "data[:,1] = np.roll(data[:,1],-1)\n",
    "print(data)\n"
   ]
  }
 ],
 "metadata": {
  "kernelspec": {
   "display_name": "Python 3.10.7 64-bit",
   "language": "python",
   "name": "python3"
  },
  "language_info": {
   "codemirror_mode": {
    "name": "ipython",
    "version": 3
   },
   "file_extension": ".py",
   "mimetype": "text/x-python",
   "name": "python",
   "nbconvert_exporter": "python",
   "pygments_lexer": "ipython3",
   "version": "3.10.7 (tags/v3.10.7:6cc6b13, Sep  5 2022, 14:08:36) [MSC v.1933 64 bit (AMD64)]"
  },
  "orig_nbformat": 4,
  "vscode": {
   "interpreter": {
    "hash": "d50220305086dde7714464d39eb812e6992001230edb4d06ec4afb2ffb1c28c6"
   }
  }
 },
 "nbformat": 4,
 "nbformat_minor": 2
}
