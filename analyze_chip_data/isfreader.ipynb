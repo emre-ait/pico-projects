{
 "cells": [
  {
   "cell_type": "code",
   "execution_count": 33,
   "metadata": {},
   "outputs": [],
   "source": [
    "# read binary data\n",
    "import numpy as np\n",
    "\n",
    "def read_file(filename):\n",
    "    with open(filename, 'rb') as file:\n",
    "        # Read the header\n",
    "        header = file.read(0x1ca)\n",
    "        # Read the data\n",
    "        data = file.read()\n",
    "        # Convert the data to a numpy array\n",
    "        data = np.frombuffer(data, dtype=np.int16)\n",
    "        return data"
   ]
  },
  {
   "cell_type": "code",
   "execution_count": 56,
   "metadata": {},
   "outputs": [
    {
     "name": "stdout",
     "output_type": "stream",
     "text": [
      "(5000000,)\n"
     ]
    }
   ],
   "source": [
    "import matplotlib.pyplot as plt\n",
    "# Define a simple moving average function\n",
    "def moving_average(data, window_size=3):\n",
    "    return np.convolve(data, np.ones(window_size)/window_size, mode='valid')\n",
    "\n",
    "\n",
    "data = read_file('TEK0000RF1.isf')\n",
    "print(data.shape)\n",
    "data = data[530000:1790000].copy()\n",
    "data[data > 75] = 0\n",
    "# Smooth the data\n",
    "data = moving_average(data, window_size=3)\n",
    "# convert to byte array\n",
    "data = data.astype(np.uint8)\n",
    "# Make binary\n",
    "data = np.where(data < 20, 0, 1)\n",
    "#save data\n",
    "#np.savetxt(\"data.csv\", adata, delimiter=\",\", header=\"Value,Elapsed_Time_us\", comments='', fmt='%i,%.2f')\n",
    "#np.savetxt(\"data.csv\", adata, delimiter=\",\", header=\"Value\", comments='', fmt='%i')\n",
    "\n"
   ]
  },
  {
   "cell_type": "code",
   "execution_count": 57,
   "metadata": {},
   "outputs": [],
   "source": [
    "compressed_data = []\n",
    "durations = []\n",
    "\n",
    "# Iterate through the data and compress\n",
    "i = 0\n",
    "while i < len(data):\n",
    "    start = i\n",
    "    # Move `i` while the next data point is the same as the current one\n",
    "    while i < len(data)-1 and data[i] == data[i+1]:\n",
    "        i += 1\n",
    "    # Include the last data point if it's the same as the one before\n",
    "    end = i\n",
    "    i += 1\n",
    "    \n",
    "    compressed_data.append(data[start])\n",
    "    # Compute the duration of the sequence and store it\n",
    "    duration = (end - start + 1) * 0.8\n",
    "    durations.append(duration)\n",
    "\n",
    "# Pair each compressed data point with its duration\n",
    "paired_data = np.column_stack((compressed_data, durations))\n",
    "\n",
    "\n",
    "# Save the data to a CSV file\n",
    "np.savetxt('data.csv', paired_data, delimiter=',', header='Signal,Elapsed Time', fmt='%i,%.2f')"
   ]
  }
 ],
 "metadata": {
  "kernelspec": {
   "display_name": "base",
   "language": "python",
   "name": "python3"
  },
  "language_info": {
   "codemirror_mode": {
    "name": "ipython",
    "version": 3
   },
   "file_extension": ".py",
   "mimetype": "text/x-python",
   "name": "python",
   "nbconvert_exporter": "python",
   "pygments_lexer": "ipython3",
   "version": "3.11.4"
  },
  "orig_nbformat": 4
 },
 "nbformat": 4,
 "nbformat_minor": 2
}
